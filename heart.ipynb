{
 "cells": [
  {
   "cell_type": "code",
   "execution_count": 2,
   "id": "0c6156c7-4319-4cfc-9b0c-22f87eec7249",
   "metadata": {},
   "outputs": [
    {
     "name": "stdout",
     "output_type": "stream",
     "text": [
      "age         0\n",
      "sex         0\n",
      "cp          0\n",
      "trestbps    0\n",
      "chol        0\n",
      "fbs         0\n",
      "restecg     0\n",
      "thalach     0\n",
      "exang       0\n",
      "oldpeak     0\n",
      "slope       0\n",
      "ca          0\n",
      "thal        0\n",
      "target      0\n",
      "dtype: int64\n"
     ]
    },
    {
     "data": {
      "text/plain": [
       "<seaborn.axisgrid.PairGrid at 0x139c7c2c0>"
      ]
     },
     "execution_count": 2,
     "metadata": {},
     "output_type": "execute_result"
    }
   ],
   "source": [
    "import pandas as pd\n",
    "\n",
    "# Load dataset\n",
    "heart_data = pd.read_csv('heart.csv')\n",
    "\n",
    "# Check for missing values\n",
    "print(heart_data.isnull().sum())\n",
    "\n",
    "# Explore relationships\n",
    "import seaborn as sns\n",
    "sns.pairplot(heart_data, hue='target')  # Visualize relationships"
   ]
  },
  {
   "cell_type": "code",
   "execution_count": 3,
   "id": "04a46d31-0ebe-49c3-9f13-fc5bf237514b",
   "metadata": {},
   "outputs": [
    {
     "name": "stdout",
     "output_type": "stream",
     "text": [
      "Accuracy: 0.99\n"
     ]
    }
   ],
   "source": [
    "from sklearn.model_selection import train_test_split\n",
    "from sklearn.ensemble import RandomForestClassifier\n",
    "from sklearn.metrics import accuracy_score\n",
    "\n",
    "# Split data\n",
    "X = heart_data.drop('target', axis=1)\n",
    "y = heart_data['target']\n",
    "X_train, X_test, y_train, y_test = train_test_split(X, y, test_size=0.2, random_state=42)\n",
    "\n",
    "# Train Random Forest\n",
    "model = RandomForestClassifier(random_state=42)\n",
    "model.fit(X_train, y_train)\n",
    "\n",
    "# Evaluate\n",
    "y_pred = model.predict(X_test)\n",
    "print(f\"Accuracy: {accuracy_score(y_test, y_pred):.2f}\")"
   ]
  },
  {
   "cell_type": "code",
   "execution_count": 4,
   "id": "1c03499f-c236-478b-a497-29a867959392",
   "metadata": {},
   "outputs": [],
   "source": [
    "import pickle\n",
    "\n",
    "# Save the model\n",
    "with open('heart_disease_model.pkl', 'wb') as file:\n",
    "    pickle.dump(model, file)"
   ]
  },
  {
   "cell_type": "code",
   "execution_count": 5,
   "id": "843d527c-25a7-4dff-b080-140a6d13ff65",
   "metadata": {},
   "outputs": [
    {
     "name": "stderr",
     "output_type": "stream",
     "text": [
      "2024-11-17 17:12:33.983 \n",
      "  \u001b[33m\u001b[1mWarning:\u001b[0m to view this Streamlit app on a browser, run it with the following\n",
      "  command:\n",
      "\n",
      "    streamlit run /opt/anaconda3/lib/python3.12/site-packages/ipykernel_launcher.py [ARGUMENTS]\n"
     ]
    }
   ],
   "source": [
    "import streamlit as st\n",
    "import pandas as pd\n",
    "\n",
    "# Load the trained model\n",
    "with open('heart_disease_model.pkl', 'rb') as file:\n",
    "    model = pickle.load(file)\n",
    "\n",
    "# Streamlit app title\n",
    "st.title(\"Heart Disease Prediction\")\n",
    "st.write(\"Enter the patient details below to predict the likelihood of heart disease:\")\n",
    "\n",
    "# Input features\n",
    "age = st.number_input(\"Age\", min_value=1, max_value=120, value=25)\n",
    "sex = st.selectbox(\"Sex\", options=[\"Male\", \"Female\"])\n",
    "cp = st.selectbox(\"Chest Pain Type (CP)\", options=[\n",
    "    \"0: Typical Angina\",\n",
    "    \"1: Atypical Angina\",\n",
    "    \"2: Non-Anginal Pain\",\n",
    "    \"3: Asymptomatic\"\n",
    "])\n",
    "trestbps = st.number_input(\"Resting Blood Pressure (mmHg)\", min_value=80, max_value=200, value=120)\n",
    "chol = st.number_input(\"Serum Cholesterol (mg/dL)\", min_value=100, max_value=600, value=200)\n",
    "fbs = st.selectbox(\"Fasting Blood Sugar > 120 mg/dL (1 = True, 0 = False)\", options=[\"0\", \"1\"])\n",
    "restecg = st.selectbox(\"Resting ECG Results\", options=[\n",
    "    \"0: Normal\",\n",
    "    \"1: ST-T wave abnormality\",\n",
    "    \"2: Probable or definite LVH\"\n",
    "])\n",
    "thalach = st.number_input(\"Max Heart Rate Achieved\", min_value=50, max_value=220, value=150)\n",
    "exang = st.selectbox(\"Exercise Induced Angina (1 = Yes, 0 = No)\", options=[\"0\", \"1\"])\n",
    "oldpeak = st.number_input(\"ST Depression Induced by Exercise\", min_value=0.0, max_value=10.0, value=0.0, step=0.1)\n",
    "slope = st.selectbox(\"Slope of the Peak Exercise ST Segment\", options=[\"0: Upsloping\", \"1: Flat\", \"2: Downsloping\"])\n",
    "ca = st.number_input(\"Number of Major Vessels (0-3)\", min_value=0, max_value=3, value=0)\n",
    "thal = st.selectbox(\"Thalassemia\", options=[\n",
    "    \"0: Normal\",\n",
    "    \"1: Fixed Defect\",\n",
    "    \"2: Reversible Defect\"\n",
    "])\n",
    "\n",
    "# Convert inputs into a DataFrame\n",
    "input_data = pd.DataFrame({\n",
    "    'age': [age],\n",
    "    'sex': [1 if sex == \"Male\" else 0],\n",
    "    'cp': [int(cp.split(\":\")[0])],\n",
    "    'trestbps': [trestbps],\n",
    "    'chol': [chol],\n",
    "    'fbs': [int(fbs)],\n",
    "    'restecg': [int(restecg.split(\":\")[0])],\n",
    "    'thalach': [thalach],\n",
    "    'exang': [int(exang)],\n",
    "    'oldpeak': [oldpeak],\n",
    "    'slope': [int(slope.split(\":\")[0])],\n",
    "    'ca': [ca],\n",
    "    'thal': [int(thal.split(\":\")[0])]\n",
    "})\n",
    "\n",
    "# Make predictions\n",
    "prediction = model.predict(input_data)[0]\n",
    "probability = model.predict_proba(input_data)[0][1]\n",
    "\n",
    "# Display the result\n",
    "if prediction == 1:\n",
    "    st.success(f\"The patient is likely to have heart disease. (Confidence: {probability:.2f})\")\n",
    "else:\n",
    "    st.success(f\"The patient is unlikely to have heart disease. (Confidence: {1 - probability:.2f})\")"
   ]
  },
  {
   "cell_type": "code",
   "execution_count": 6,
   "id": "b84d4548-f840-4346-bfbb-f3dd90a67c8d",
   "metadata": {},
   "outputs": [
    {
     "ename": "SyntaxError",
     "evalue": "invalid syntax (1226853834.py, line 1)",
     "output_type": "error",
     "traceback": [
      "\u001b[0;36m  Cell \u001b[0;32mIn[6], line 1\u001b[0;36m\u001b[0m\n\u001b[0;31m    streamlit run /opt/anaconda3/lib/python3.12/site-packages/ipykernel_launcher.py\u001b[0m\n\u001b[0m              ^\u001b[0m\n\u001b[0;31mSyntaxError\u001b[0m\u001b[0;31m:\u001b[0m invalid syntax\n"
     ]
    }
   ],
   "source": [
    "streamlit run /opt/anaconda3/lib/python3.12/site-packages/ipykernel_launcher.py"
   ]
  },
  {
   "cell_type": "code",
   "execution_count": 9,
   "id": "39804aab-5275-4680-b48a-32a1aefa63e7",
   "metadata": {},
   "outputs": [
    {
     "name": "stdout",
     "output_type": "stream",
     "text": [
      "\u001b[33mhint: Using 'master' as the name for the initial branch. This default branch name\u001b[m\n",
      "\u001b[33mhint: is subject to change. To configure the initial branch name to use in all\u001b[m\n",
      "\u001b[33mhint: of your new repositories, which will suppress this warning, call:\u001b[m\n",
      "\u001b[33mhint:\u001b[m\n",
      "\u001b[33mhint: \tgit config --global init.defaultBranch <name>\u001b[m\n",
      "\u001b[33mhint:\u001b[m\n",
      "\u001b[33mhint: Names commonly chosen instead of 'master' are 'main', 'trunk' and\u001b[m\n",
      "\u001b[33mhint: 'development'. The just-created branch can be renamed via this command:\u001b[m\n",
      "\u001b[33mhint:\u001b[m\n",
      "\u001b[33mhint: \tgit branch -m <name>\u001b[m\n",
      "Initialized empty Git repository in /Users/sandrathermildor/Practice/.git/\n"
     ]
    }
   ],
   "source": [
    "!git init"
   ]
  },
  {
   "cell_type": "code",
   "execution_count": 11,
   "id": "ede1c9dc-351f-4c9b-b845-6a2c66121faf",
   "metadata": {},
   "outputs": [
    {
     "name": "stdout",
     "output_type": "stream",
     "text": [
      "On branch master\n",
      "\n",
      "No commits yet\n",
      "\n",
      "Untracked files:\n",
      "  (use \"git add <file>...\" to include in what will be committed)\n",
      "\t\u001b[31m.ipynb_checkpoints/\u001b[m\n",
      "\t\u001b[31mFizzBuzz.ipynb\u001b[m\n",
      "\t\u001b[31mMall_Customers.csv\u001b[m\n",
      "\t\u001b[31mTensorFlowKeras.ipynb\u001b[m\n",
      "\t\u001b[31mbasic_calculator.ipynb\u001b[m\n",
      "\t\u001b[31mheart.csv\u001b[m\n",
      "\t\u001b[31mheart.ipynb\u001b[m\n",
      "\t\u001b[31mheart_disease_model.pkl\u001b[m\n",
      "\t\u001b[31mhouseprices.ipynb\u001b[m\n",
      "\t\u001b[31mtitantic.ipynb\u001b[m\n",
      "\t\u001b[31munsupervisedLearning.ipynb\u001b[m\n",
      "\n",
      "nothing added to commit but untracked files present (use \"git add\" to track)\n"
     ]
    }
   ],
   "source": [
    "!git status"
   ]
  },
  {
   "cell_type": "code",
   "execution_count": null,
   "id": "c4c859c9-4f2a-4047-bdaa-3c10bafc3f0a",
   "metadata": {},
   "outputs": [],
   "source": []
  }
 ],
 "metadata": {
  "kernelspec": {
   "display_name": "Python 3 (ipykernel)",
   "language": "python",
   "name": "python3"
  },
  "language_info": {
   "codemirror_mode": {
    "name": "ipython",
    "version": 3
   },
   "file_extension": ".py",
   "mimetype": "text/x-python",
   "name": "python",
   "nbconvert_exporter": "python",
   "pygments_lexer": "ipython3",
   "version": "3.12.2"
  }
 },
 "nbformat": 4,
 "nbformat_minor": 5
}
